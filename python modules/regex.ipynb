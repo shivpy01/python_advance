{
 "cells": [
  {
   "cell_type": "code",
   "execution_count": 1,
   "metadata": {},
   "outputs": [],
   "source": [
    "import re"
   ]
  },
  {
   "cell_type": "code",
   "execution_count": 2,
   "metadata": {},
   "outputs": [
    {
     "name": "stdout",
     "output_type": "stream",
     "text": [
      "['e', 'a', 'd', 'b', 'e', 'a']\n"
     ]
    }
   ],
   "source": [
    "p = re.compile('[a-e]')\n",
    "print(p.findall(\"Aye, said Mr. Gibenson Stark\"))"
   ]
  },
  {
   "cell_type": "code",
   "execution_count": 5,
   "metadata": {},
   "outputs": [
    {
     "name": "stdout",
     "output_type": "stream",
     "text": [
      "['0', '7', '2', '0', '3']\n"
     ]
    }
   ],
   "source": [
    "p = re.compile('\\d') # \\d is equivalent to [0-9]\n",
    "print(p.findall('Meet me at 07:20 PM on july 3'))"
   ]
  },
  {
   "cell_type": "code",
   "execution_count": 7,
   "metadata": {},
   "outputs": [
    {
     "name": "stdout",
     "output_type": "stream",
     "text": [
      "['05', '20', '3', '2020']\n"
     ]
    }
   ],
   "source": [
    "# \\d+ will match a group on [0-9], group of one or greater size \n",
    "p = re.compile('\\d+')\n",
    "print(p.findall('I will come to you at 05:20 PM on 3 july 2020'))\n"
   ]
  },
  {
   "cell_type": "code",
   "execution_count": 8,
   "metadata": {},
   "outputs": [
    {
     "name": "stdout",
     "output_type": "stream",
     "text": [
      "['i', 's', 'u', 's', 'e', 'i', 'n', 'p', 'y', 't', 'h', 'o', 'n', 'f', 'o', 'r', 'a', 'l', 'l', 'a', 'n', 'd', '_', 'i', 's', 'f', 'o', 'r', 'n', 'a', 'm', 'i', 'n', 'g']\n"
     ]
    }
   ],
   "source": [
    "# \\w is equivalent to [a-z,A-Z,0-9,_]\n",
    "p = re.compile('\\w')\n",
    "print(p.findall('* is use in python for all and _ is for naming'))"
   ]
  },
  {
   "cell_type": "code",
   "execution_count": 9,
   "metadata": {},
   "outputs": [
    {
     "name": "stdout",
     "output_type": "stream",
     "text": [
      "['is', 'use', 'in', 'python', 'for', 'all', 'and', '_', 'is', 'for', 'naming']\n"
     ]
    }
   ],
   "source": [
    "# \\w+ matches to group of alphanumeric character.\n",
    "p = re.compile('\\w+')\n",
    "print(p.findall('* is use in python for all and _ is for naming'))"
   ]
  },
  {
   "cell_type": "code",
   "execution_count": 11,
   "metadata": {},
   "outputs": [
    {
     "name": "stdout",
     "output_type": "stream",
     "text": [
      "['*', ' ', ' ', ' ', ' ', ' ', ' ', ',', ' ', ' ', ' ', ' ', '.']\n"
     ]
    }
   ],
   "source": [
    "# \\W matches to non alphanumeric characters\n",
    "p = re.compile('\\W')\n",
    "print(p.findall('* is use in python for all, _ is for naming.'))"
   ]
  },
  {
   "cell_type": "code",
   "execution_count": 13,
   "metadata": {},
   "outputs": [
    {
     "name": "stdout",
     "output_type": "stream",
     "text": [
      "['ab', 'abb', 'abbbb', 'ab']\n"
     ]
    }
   ],
   "source": [
    "p = re.compile('ab*')\n",
    "print(p.findall('ababbabbbbabc'))"
   ]
  },
  {
   "cell_type": "code",
   "execution_count": null,
   "metadata": {},
   "outputs": [],
   "source": []
  },
  {
   "cell_type": "code",
   "execution_count": null,
   "metadata": {},
   "outputs": [],
   "source": []
  },
  {
   "cell_type": "code",
   "execution_count": 17,
   "metadata": {},
   "outputs": [
    {
     "name": "stdout",
     "output_type": "stream",
     "text": [
      "match found from 14 to 21\n",
      "match is: July 03\n",
      "month: July\n",
      "day: 03\n"
     ]
    }
   ],
   "source": [
    "regex = '([a-zA-z]+) (\\d+)'\n",
    "match = re.search(regex, \"I was born on July 03\")\n",
    "if match != None:\n",
    "    print(f'match found from {match.start()} to {match.end()}')\n",
    "    print(f'match is: {match.group(0)}')\n",
    "    print(f'month: {match.group(1)}')\n",
    "    print(f'day: {match.group(2)}')"
   ]
  },
  {
   "cell_type": "code",
   "execution_count": null,
   "metadata": {},
   "outputs": [],
   "source": []
  },
  {
   "cell_type": "code",
   "execution_count": null,
   "metadata": {},
   "outputs": [],
   "source": []
  },
  {
   "cell_type": "code",
   "execution_count": 22,
   "metadata": {},
   "outputs": [
    {
     "name": "stdout",
     "output_type": "stream",
     "text": [
      "mached data is: july 03\n",
      "\n",
      "i was born on july 03 is not a valid string\n"
     ]
    }
   ],
   "source": [
    "def matching(string1): \n",
    "    regex = '([a-zA-z]+) (\\d+)'\n",
    "    match = re.match(regex, string1)\n",
    "    if match == None:\n",
    "        return print(f'{string1} is not a valid string')\n",
    "\n",
    "    print(f'mached data is: {match.group(0)}')\n",
    "    print()\n",
    "    \n",
    "matching('july 03')\n",
    "matching('i was born on july 03')"
   ]
  },
  {
   "cell_type": "code",
   "execution_count": null,
   "metadata": {},
   "outputs": [],
   "source": []
  }
 ],
 "metadata": {
  "kernelspec": {
   "display_name": "Python 3",
   "language": "python",
   "name": "python3"
  },
  "language_info": {
   "codemirror_mode": {
    "name": "ipython",
    "version": 3
   },
   "file_extension": ".py",
   "mimetype": "text/x-python",
   "name": "python",
   "nbconvert_exporter": "python",
   "pygments_lexer": "ipython3",
   "version": "3.7.4"
  }
 },
 "nbformat": 4,
 "nbformat_minor": 2
}
